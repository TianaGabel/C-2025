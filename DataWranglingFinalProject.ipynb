{
  "nbformat": 4,
  "nbformat_minor": 0,
  "metadata": {
    "colab": {
      "provenance": [],
      "authorship_tag": "ABX9TyMr6zICS5HcHRxy4HCr/quF",
      "include_colab_link": true
    },
    "kernelspec": {
      "name": "python3",
      "display_name": "Python 3"
    },
    "language_info": {
      "name": "python"
    }
  },
  "cells": [
    {
      "cell_type": "markdown",
      "metadata": {
        "id": "view-in-github",
        "colab_type": "text"
      },
      "source": [
        "<a href=\"https://colab.research.google.com/github/TianaGabel/C-2025/blob/main/DataWranglingFinalProject.ipynb\" target=\"_parent\"><img src=\"https://colab.research.google.com/assets/colab-badge.svg\" alt=\"Open In Colab\"/></a>"
      ]
    },
    {
      "cell_type": "markdown",
      "source": [
        "# Grant funding trends at CSU\n",
        "**Author:** Tatiana Gabel\n",
        "\n",
        "**Overview:** This project investigates new university grant funding at csu.\n",
        "\n",
        "### **Background:**\n",
        "Universities receive a variety of external funding to support research, programs, employee costs, development projects among other initiatives. This support comes in the form of grants, cooperative agreements, contracts, etc. Which are collectively known as sponsored programs/projects. In order to receive funding Primary investigators(PIs) submit proposals to outside organizations such as federal agencies, corporations, non-profits or foundations. CSU is considered an R1 institution, which means that //. Hence, the funding for sponsored projects is essential for csu to stay competitive.\n",
        "\n",
        "For this project, I will be narrowing my scope to Grants awarded by federal agencies.\n",
        "- I have opted to focus on grants instead of cooperative agreements as in cooperative agreements federal employees worked directly with the project, rather than monitoring performance at specific deadlines.\n",
        "- I chose federal agencies as historically they were the largest sponsors of academic research. However, as of 2025 the current poltical climate poses the threat of funding cuts and freezes which could significantly impact CSU.\n",
        "\n",
        "Additionally, to further narrow the scope of data used only grants above 1,000 dollars between the years of 2016-2024 were used.\n",
        "\n",
        "I will refer to grants with a start date within the specified year as \"New\" grants, even if the grant is for additional funding of a previous grant.\n",
        "\n",
        "### **Datasets:**\n",
        "**Office of sponsored projects University grant data**\n",
        "\n",
        "\n",
        "Link: https://vprweb.research.colostate.edu/Proposal-Award-History-Search/Award.aspx\n",
        "\n",
        "Description:\n",
        "Contains the fields\n",
        "- Principal investigator\n",
        "- PI title\n",
        "- Account Number\n",
        "- Amount Obligated\n",
        "- Start Date\n",
        "- End Date\n",
        "- Grant Title\n",
        "- Transaction Type (Language has been altered each year. 2024 descriptions are much more concise and non-descriptive)\n",
        "- College/Department\n",
        "- Sponsor Agency\n",
        "\n",
        "**CSU Faculty Credentials**\n",
        "\n",
        "Link: https://app.powerbi.com/view?r=eyJrIjoiNTNiOTg2YzktNzg3MS00YjY4LTk1MDAtZmZjM2EzMjhjNGFiIiwidCI6ImFmYjU4ODAyLWZmN2EtNGJiMS1hYjIxLTM2N2ZmMmVjZmM4YiIsImMiOjZ9\n",
        "\n",
        "Description:\n",
        "Information on basic faculty credentials, most PIs are also faculty which allows the above dataset to be merged on the name field.\n",
        "Contains the fields\n",
        "- Name\n",
        "- Department/Division\n",
        "- Rank/Seniority (ex: associate professor)\n",
        "- Tenured Status\n",
        "- Highest Degree earned\n",
        " - Major\n",
        " - Year\n",
        " - University\n",
        "\n",
        "**CSU Faculty Citation Counts**\n",
        "\n",
        "//TODO\n",
        "Link:\n",
        "\n",
        "Description:\n",
        "The H-index provides a mesure of the number of research papers that have been citated more than 10 times, indicating their work has been meaningful to research.\n",
        "\n",
        "### **Methodology:**\n",
        "1. **Data Exploration:**\n",
        "My initial exploration of the data was looking for a meaningful way to reduce the scope of the project. Based on the 2024 data nearly half of listed sponsored program transactions were for grants, it was not uncommon for multiple grants to be received for the same project(same account number), nor for a PI to have multiple projects that received funding. Around half of grants lasted less than 2 years, and around another 40% lasted between 2 to 6 years. There is a peak in funding in September and December, potentially correlating with the start of the college semester, or with company budgeting quarters\n",
        "3. **Cleaning Data:**\n"
      ],
      "metadata": {
        "id": "0TSepAOQ0mgQ"
      }
    },
    {
      "cell_type": "markdown",
      "source": [
        "# Import and Data Cleaning"
      ],
      "metadata": {
        "id": "hxNmAj3d2zL_"
      }
    },
    {
      "cell_type": "code",
      "execution_count": 1,
      "metadata": {
        "id": "JOmeyrac0fjE",
        "colab": {
          "base_uri": "https://localhost:8080/"
        },
        "outputId": "737f0096-50a4-47fd-e98f-3ed64055b92f"
      },
      "outputs": [
        {
          "output_type": "stream",
          "name": "stderr",
          "text": [
            "/usr/local/lib/python3.11/dist-packages/openpyxl/styles/stylesheet.py:237: UserWarning: Workbook contains no default style, apply openpyxl's default\n",
            "  warn(\"Workbook contains no default style, apply openpyxl's default\")\n",
            "/usr/local/lib/python3.11/dist-packages/openpyxl/styles/stylesheet.py:237: UserWarning: Workbook contains no default style, apply openpyxl's default\n",
            "  warn(\"Workbook contains no default style, apply openpyxl's default\")\n",
            "/usr/local/lib/python3.11/dist-packages/openpyxl/styles/stylesheet.py:237: UserWarning: Workbook contains no default style, apply openpyxl's default\n",
            "  warn(\"Workbook contains no default style, apply openpyxl's default\")\n",
            "/usr/local/lib/python3.11/dist-packages/openpyxl/styles/stylesheet.py:237: UserWarning: Workbook contains no default style, apply openpyxl's default\n",
            "  warn(\"Workbook contains no default style, apply openpyxl's default\")\n",
            "/usr/local/lib/python3.11/dist-packages/openpyxl/styles/stylesheet.py:237: UserWarning: Workbook contains no default style, apply openpyxl's default\n",
            "  warn(\"Workbook contains no default style, apply openpyxl's default\")\n",
            "/usr/local/lib/python3.11/dist-packages/openpyxl/styles/stylesheet.py:237: UserWarning: Workbook contains no default style, apply openpyxl's default\n",
            "  warn(\"Workbook contains no default style, apply openpyxl's default\")\n",
            "/usr/local/lib/python3.11/dist-packages/openpyxl/styles/stylesheet.py:237: UserWarning: Workbook contains no default style, apply openpyxl's default\n",
            "  warn(\"Workbook contains no default style, apply openpyxl's default\")\n",
            "/usr/local/lib/python3.11/dist-packages/openpyxl/styles/stylesheet.py:237: UserWarning: Workbook contains no default style, apply openpyxl's default\n",
            "  warn(\"Workbook contains no default style, apply openpyxl's default\")\n",
            "/usr/local/lib/python3.11/dist-packages/openpyxl/styles/stylesheet.py:237: UserWarning: Workbook contains no default style, apply openpyxl's default\n",
            "  warn(\"Workbook contains no default style, apply openpyxl's default\")\n"
          ]
        }
      ],
      "source": [
        "import pandas as pd\n",
        "grant_data = {}\n",
        "for year in range(2016,2025):\n",
        "  file_name = f\"FederalGrantFunding{year}.xlsx\"\n",
        "  df = pd.read_excel(file_name, header=0)\n",
        "  grant_data[year] = df"
      ]
    },
    {
      "cell_type": "markdown",
      "source": [
        "# RQ 1: What does sponsored project funding look like at CSU?\n",
        "- Types of funding percentages\n",
        "- Grant Cycle\n",
        "- Funding amount by time of year\n",
        "- Department funding (Trends in funding??)"
      ],
      "metadata": {
        "id": "ScDtGRaP56IM"
      }
    },
    {
      "cell_type": "markdown",
      "source": [
        "# RQ 2: How has Federal Grant funding changed over 2016-2024?\n",
        "\n",
        "Vizualization 1\n",
        "- Timeseries graph with number of awardees, projects and grants\n",
        "Some tables with basic information\n",
        "- Length of grants(Grant cycle)/other information from the general inquiry\n",
        "- Stacked bar graph of most common federal agency funding.\n",
        "\n",
        "-why the choice was made to do this\n",
        "-code representation\n",
        "-output graphs, what the results mean"
      ],
      "metadata": {
        "id": "i_3mhAKZ6vyP"
      }
    },
    {
      "cell_type": "markdown",
      "source": [
        "# RQ 3: What does the typical profile of \"high-performing\" PIs look like?\n",
        "\n",
        "- Pivot table based on the awardee granted the most money?\n",
        "- Most projects\n",
        "- Potentially information on H-index\n",
        "\n",
        "- \"Average\" PI\n"
      ],
      "metadata": {
        "id": "SH9UHull6vf2"
      }
    },
    {
      "cell_type": "markdown",
      "source": [
        "# Conclusions"
      ],
      "metadata": {
        "id": "BxVs0nDj7SEP"
      }
    }
  ]
}